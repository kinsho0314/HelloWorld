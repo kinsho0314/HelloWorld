{
 "cells": [
  {
   "cell_type": "markdown",
   "metadata": {
    "deletable": false
   },
   "source": [
    "# Getting started with Python\n",
    "\n",
    "See the learning materials associated with this exercise <a href=\"https://applied-language-technology.mooc.fi/html/notebooks/part_i/02_getting_started_with_python.html\" target=\"blank_\">here</a>.\n",
    "\n",
    "For instructions on how to use TestMyCode (TMC) to test your code and submit it to the server, see <a href=\"https://applied-language-technology.mooc.fi/html/tmc.html\" target=\"blank_\">here</a>.\n",
    "\n",
    "Remember to save this Notebook before testing your code. Press <kbd>Control</kbd>+<kbd>s</kbd> or select the *File* menu and click *Save*.\n",
    "\n",
    "**The maximum number of points for this exercise is 15.**"
   ]
  },
  {
   "cell_type": "markdown",
   "metadata": {
    "deletable": false
   },
   "source": [
    "## 1. Create a variable with a string object (4 points)\n",
    "\n",
    "Create a variable named `my_variable` and assign a string object with the text `This is my first variable.` to the variable."
   ]
  },
  {
   "cell_type": "code",
   "execution_count": null,
   "metadata": {
    "deletable": false,
    "test": "create_variable"
   },
   "outputs": [],
   "source": [
    "# Write your answer below this line"
   ]
  },
  {
   "cell_type": "markdown",
   "metadata": {
    "deletable": false
   },
   "source": [
    "## 2. Split the string into a list (4 points)\n",
    "\n",
    "Split the string stored under the variable `numbers` into a list using the `.split()` method. \n",
    "\n",
    "Assign the resulting list to a variable named `my_list`."
   ]
  },
  {
   "cell_type": "code",
   "execution_count": null,
   "metadata": {
    "deletable": false,
    "test": "create_list"
   },
   "outputs": [],
   "source": [
    "# Create a variable named 'numbers' that holds a string\n",
    "numbers = \"one two three four five\"\n",
    "\n",
    "# Write your answer below this line"
   ]
  },
  {
   "cell_type": "markdown",
   "metadata": {
    "deletable": false
   },
   "source": [
    "## 3. Get an item from a list (2 points)\n",
    "\n",
    "Get the **fifth** item in the list stored under the variable `answers`.\n",
    "\n",
    "Assign the item to a variable named `item_5`."
   ]
  },
  {
   "cell_type": "code",
   "execution_count": null,
   "metadata": {
    "deletable": false,
    "test": "get_item"
   },
   "outputs": [],
   "source": [
    "# Create a variable named 'new_list' that holds a list\n",
    "answers = ['yes', 'no', 'maybe', 'perhaps', 'ok', 'yes']\n",
    "\n",
    "# Write your answer below this line"
   ]
  },
  {
   "cell_type": "markdown",
   "metadata": {
    "deletable": false
   },
   "source": [
    "## 4. Print the contents of a variable (1 point)\n",
    "\n",
    "Print the contents of the variable named `a_message`."
   ]
  },
  {
   "cell_type": "code",
   "execution_count": null,
   "metadata": {
    "deletable": false,
    "test": "print_variable"
   },
   "outputs": [],
   "source": [
    "# Create a variable named 'a_message' that holds a string\n",
    "a_message = 'This is the message.'\n",
    "\n",
    "# Write your answer below this line"
   ]
  },
  {
   "cell_type": "markdown",
   "metadata": {
    "deletable": false
   },
   "source": [
    "## 5. Strip the trailing full stop (4 points)\n",
    "\n",
    "Use the `.strip()` method to remove the final full stop `.` from the string stored under the variable `sentence`.\n",
    "\n",
    "Remember that the `.strip()` method takes the string to be removed as input. The input must be placed between the parentheses `()`.\n",
    "\n",
    "Assign the result under the variable `processed`."
   ]
  },
  {
   "cell_type": "code",
   "execution_count": null,
   "metadata": {
    "deletable": false,
    "test": "remove_stop"
   },
   "outputs": [],
   "source": [
    "# Create a variable named sentence that holds a string\n",
    "sentence = \"This is just another example.\"\n",
    "\n",
    "# Write your answer below this line"
   ]
  }
 ],
 "metadata": {
  "celltoolbar": "Edit Metadata",
  "kernelspec": {
   "display_name": "Python 3",
   "language": "python",
   "name": "python3"
  },
  "language_info": {
   "codemirror_mode": {
    "name": "ipython",
    "version": 3
   },
   "file_extension": ".py",
   "mimetype": "text/x-python",
   "name": "python",
   "nbconvert_exporter": "python",
   "pygments_lexer": "ipython3",
   "version": "3.9.9"
  }
 },
 "nbformat": 4,
 "nbformat_minor": 2
}
